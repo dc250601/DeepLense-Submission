{
 "cells": [
  {
   "cell_type": "code",
   "execution_count": 2,
   "id": "8511aed2",
   "metadata": {
    "execution": {
     "iopub.execute_input": "2022-04-10T12:12:01.443241Z",
     "iopub.status.busy": "2022-04-10T12:12:01.441653Z",
     "iopub.status.idle": "2022-04-10T12:12:06.791835Z",
     "shell.execute_reply": "2022-04-10T12:12:06.791174Z",
     "shell.execute_reply.started": "2022-04-04T14:35:03.816493Z"
    },
    "papermill": {
     "duration": 5.367687,
     "end_time": "2022-04-10T12:12:06.792011",
     "exception": false,
     "start_time": "2022-04-10T12:12:01.424324",
     "status": "completed"
    },
    "tags": []
   },
   "outputs": [],
   "source": [
    "import numpy as np\n",
    "import matplotlib.pyplot as plt\n",
    "import tensorflow as tf\n",
    "from tensorflow import keras \n",
    "from tensorflow.keras.preprocessing.image import ImageDataGenerator \n",
    "import tensorflow_addons as tfa\n",
    "import os\n",
    "import pandas as pd"
   ]
  },
  {
   "cell_type": "code",
   "execution_count": 3,
   "id": "a42ca9f2",
   "metadata": {
    "execution": {
     "iopub.execute_input": "2022-04-10T12:12:06.859744Z",
     "iopub.status.busy": "2022-04-10T12:12:06.859090Z",
     "iopub.status.idle": "2022-04-10T12:12:44.439386Z",
     "shell.execute_reply": "2022-04-10T12:12:44.439807Z",
     "shell.execute_reply.started": "2022-04-04T14:35:04.520379Z"
    },
    "papermill": {
     "duration": 37.597418,
     "end_time": "2022-04-10T12:12:44.439953",
     "exception": false,
     "start_time": "2022-04-10T12:12:06.842535",
     "status": "completed"
    },
    "tags": []
   },
   "outputs": [
    {
     "name": "stdout",
     "output_type": "stream",
     "text": [
      "Found 30000 images belonging to 3 classes.\n",
      "Found 7500 images belonging to 3 classes.\n"
     ]
    }
   ],
   "source": [
    "train_datagen= ImageDataGenerator(\n",
    "                                rescale=1./255, \n",
    "                                rotation_range = 90,\n",
    "                                horizontal_flip = True,\n",
    "                                vertical_flip = True)\n",
    "test_datagen = ImageDataGenerator(rescale=1./255)\n",
    "train_generator = train_datagen.flow_from_directory(\n",
    "        './Data/train',\n",
    "        target_size=(150, 150),\n",
    "        color_mode='grayscale',\n",
    "        batch_size=32,\n",
    "        class_mode='categorical')\n",
    "validation_generator = test_datagen.flow_from_directory(\n",
    "        './Data/val',\n",
    "        target_size=(150, 150),\n",
    "        color_mode='grayscale',\n",
    "        batch_size=32,\n",
    "        class_mode='categorical')"
   ]
  },
  {
   "cell_type": "code",
   "execution_count": 4,
   "id": "e6148f04",
   "metadata": {
    "execution": {
     "iopub.execute_input": "2022-04-10T12:12:44.466431Z",
     "iopub.status.busy": "2022-04-10T12:12:44.465673Z",
     "iopub.status.idle": "2022-04-10T12:12:51.559165Z",
     "shell.execute_reply": "2022-04-10T12:12:51.559675Z",
     "shell.execute_reply.started": "2022-04-04T14:35:44.770288Z"
    },
    "papermill": {
     "duration": 7.108117,
     "end_time": "2022-04-10T12:12:51.559843",
     "exception": false,
     "start_time": "2022-04-10T12:12:44.451726",
     "status": "completed"
    },
    "tags": []
   },
   "outputs": [],
   "source": [
    "base_model = tf.keras.applications.EfficientNetB5(\n",
    "    include_top=False, \n",
    "    weights='imagenet',\n",
    "    input_shape= (150,150,3)\n",
    ")"
   ]
  },
  {
   "cell_type": "code",
   "execution_count": 5,
   "id": "f34f80a0",
   "metadata": {
    "execution": {
     "iopub.execute_input": "2022-04-10T12:12:51.610811Z",
     "iopub.status.busy": "2022-04-10T12:12:51.610033Z",
     "iopub.status.idle": "2022-04-10T12:12:51.620526Z",
     "shell.execute_reply": "2022-04-10T12:12:51.620075Z",
     "shell.execute_reply.started": "2022-04-04T14:35:52.86234Z"
    },
    "papermill": {
     "duration": 0.041268,
     "end_time": "2022-04-10T12:12:51.620635",
     "exception": false,
     "start_time": "2022-04-10T12:12:51.579367",
     "status": "completed"
    },
    "tags": []
   },
   "outputs": [],
   "source": [
    "base_model.trainable = True"
   ]
  },
  {
   "cell_type": "code",
   "execution_count": 6,
   "id": "289ed648",
   "metadata": {
    "execution": {
     "iopub.execute_input": "2022-04-10T12:12:51.663824Z",
     "iopub.status.busy": "2022-04-10T12:12:51.663071Z",
     "iopub.status.idle": "2022-04-10T12:12:53.174591Z",
     "shell.execute_reply": "2022-04-10T12:12:53.173968Z",
     "shell.execute_reply.started": "2022-04-04T14:35:52.905696Z"
    },
    "papermill": {
     "duration": 1.536821,
     "end_time": "2022-04-10T12:12:53.174730",
     "exception": false,
     "start_time": "2022-04-10T12:12:51.637909",
     "status": "completed"
    },
    "tags": []
   },
   "outputs": [],
   "source": [
    "inputs = tf.keras.Input(shape=(150,150,1))\n",
    "x = tf.keras.layers.concatenate([inputs,inputs,inputs], axis = -1)\n",
    "x = base_model(x, training=True)\n",
    "x = tf.keras.layers.GlobalAveragePooling2D()(x)\n",
    "x = tf.keras.layers.Dropout(0.3)(x)\n",
    "x = tf.keras.layers.Dense(256 , activation = 'relu')(x)\n",
    "x = tf.keras.layers.Dropout(0.3)(x)\n",
    "outputs = tf.keras.layers.Dense(3, activation = 'softmax')(x)\n",
    "\n",
    "model = tf.keras.Model(inputs, outputs)"
   ]
  },
  {
   "cell_type": "code",
   "execution_count": 7,
   "id": "8ad980c4",
   "metadata": {
    "execution": {
     "iopub.execute_input": "2022-04-10T12:12:53.215062Z",
     "iopub.status.busy": "2022-04-10T12:12:53.214329Z",
     "iopub.status.idle": "2022-04-10T12:12:53.216516Z",
     "shell.execute_reply": "2022-04-10T12:12:53.216934Z",
     "shell.execute_reply.started": "2022-04-04T14:43:28.035932Z"
    },
    "papermill": {
     "duration": 0.024426,
     "end_time": "2022-04-10T12:12:53.217056",
     "exception": false,
     "start_time": "2022-04-10T12:12:53.192630",
     "status": "completed"
    },
    "tags": []
   },
   "outputs": [],
   "source": [
    "from tensorflow_addons.optimizers import CyclicalLearningRate\n",
    "cyclical_learning_rate = CyclicalLearningRate(\n",
    " initial_learning_rate=1e-6,\n",
    " maximal_learning_rate=1e-3,\n",
    " step_size=938*6,\n",
    " scale_fn=lambda x: 1 / (2.0 ** (x - 1)),\n",
    " scale_mode='cycle')"
   ]
  },
  {
   "cell_type": "code",
   "execution_count": 8,
   "id": "968af032",
   "metadata": {
    "execution": {
     "iopub.execute_input": "2022-04-10T12:12:53.260667Z",
     "iopub.status.busy": "2022-04-10T12:12:53.258949Z",
     "iopub.status.idle": "2022-04-10T12:12:53.281824Z",
     "shell.execute_reply": "2022-04-10T12:12:53.282582Z",
     "shell.execute_reply.started": "2022-04-04T14:41:35.801111Z"
    },
    "papermill": {
     "duration": 0.048537,
     "end_time": "2022-04-10T12:12:53.282706",
     "exception": false,
     "start_time": "2022-04-10T12:12:53.234169",
     "status": "completed"
    },
    "tags": []
   },
   "outputs": [],
   "source": [
    "model.compile(\n",
    "    optimizer=tf.keras.optimizers.Adam(\n",
    "    learning_rate=cyclical_learning_rate,\n",
    "    beta_1=0.9,\n",
    "    beta_2=0.999,\n",
    "    epsilon=1e-07\n",
    "),\n",
    "    loss='CategoricalCrossentropy',\n",
    "    metrics=[tf.keras.metrics.AUC(name = \"auc\"), tf.keras.metrics.CategoricalAccuracy()]\n",
    ")"
   ]
  },
  {
   "cell_type": "code",
   "execution_count": 9,
   "id": "6999e7bc",
   "metadata": {
    "execution": {
     "iopub.execute_input": "2022-04-10T12:12:53.320541Z",
     "iopub.status.busy": "2022-04-10T12:12:53.319730Z",
     "iopub.status.idle": "2022-04-10T12:12:53.323901Z",
     "shell.execute_reply": "2022-04-10T12:12:53.324313Z"
    },
    "papermill": {
     "duration": 0.024259,
     "end_time": "2022-04-10T12:12:53.324433",
     "exception": false,
     "start_time": "2022-04-10T12:12:53.300174",
     "status": "completed"
    },
    "tags": []
   },
   "outputs": [],
   "source": [
    "checkpoint = tf.keras.callbacks.ModelCheckpoint(\n",
    "    \"./cp_{epoch}_.ckpt\",\n",
    "    monitor='val_auc',\n",
    "    verbose=1,\n",
    "    save_weights_only=True,\n",
    "    mode='auto',\n",
    "    save_freq = 1000\n",
    ")"
   ]
  },
  {
   "cell_type": "code",
   "execution_count": 10,
   "id": "36c12189",
   "metadata": {
    "execution": {
     "iopub.execute_input": "2022-04-10T12:12:53.361864Z",
     "iopub.status.busy": "2022-04-10T12:12:53.361105Z",
     "iopub.status.idle": "2022-04-10T12:12:53.365613Z",
     "shell.execute_reply": "2022-04-10T12:12:53.365192Z",
     "shell.execute_reply.started": "2022-04-04T14:41:43.406638Z"
    },
    "papermill": {
     "duration": 0.023836,
     "end_time": "2022-04-10T12:12:53.365708",
     "exception": false,
     "start_time": "2022-04-10T12:12:53.341872",
     "status": "completed"
    },
    "tags": []
   },
   "outputs": [],
   "source": [
    "lr_red = tf.keras.callbacks.ReduceLROnPlateau(\n",
    "    monitor='val_auc',\n",
    "    factor=0.5,\n",
    "    patience=10,\n",
    "    verbose=1,\n",
    "    mode='auto',\n",
    "    min_delta=0.000001\n",
    ")"
   ]
  },
  {
   "cell_type": "code",
   "execution_count": 11,
   "id": "7cc8801f",
   "metadata": {
    "execution": {
     "iopub.execute_input": "2022-04-10T12:12:53.408001Z",
     "iopub.status.busy": "2022-04-10T12:12:53.407258Z",
     "iopub.status.idle": "2022-04-10T17:18:42.568675Z",
     "shell.execute_reply": "2022-04-10T17:18:42.568155Z",
     "shell.execute_reply.started": "2022-04-03T15:15:39.5144Z"
    },
    "papermill": {
     "duration": 18349.185693,
     "end_time": "2022-04-10T17:18:42.568816",
     "exception": false,
     "start_time": "2022-04-10T12:12:53.383123",
     "status": "completed"
    },
    "tags": []
   },
   "outputs": [
    {
     "name": "stderr",
     "output_type": "stream",
     "text": [
      "2022-04-10 12:12:53.688738: I tensorflow/compiler/mlir/mlir_graph_optimization_pass.cc:185] None of the MLIR Optimization Passes are enabled (registered 2)\n"
     ]
    },
    {
     "name": "stdout",
     "output_type": "stream",
     "text": [
      "Epoch 1/50\n"
     ]
    },
    {
     "name": "stderr",
     "output_type": "stream",
     "text": [
      "2022-04-10 12:13:13.561215: I tensorflow/stream_executor/cuda/cuda_dnn.cc:369] Loaded cuDNN version 8005\n"
     ]
    },
    {
     "name": "stdout",
     "output_type": "stream",
     "text": [
      "938/938 - 396s - loss: 1.0024 - auc: 0.6671 - categorical_accuracy: 0.4641 - val_loss: 0.7180 - val_auc: 0.8572 - val_categorical_accuracy: 0.6830\n",
      "Epoch 2/50\n",
      "\n",
      "Epoch 00002: saving model to ./cp_2_.ckpt\n",
      "938/938 - 356s - loss: 0.5406 - auc: 0.9218 - categorical_accuracy: 0.7827 - val_loss: 0.4647 - val_auc: 0.9425 - val_categorical_accuracy: 0.8184\n",
      "Epoch 3/50\n",
      "\n",
      "Epoch 00003: saving model to ./cp_3_.ckpt\n",
      "938/938 - 356s - loss: 0.3954 - auc: 0.9581 - categorical_accuracy: 0.8518 - val_loss: 0.4216 - val_auc: 0.9560 - val_categorical_accuracy: 0.8533\n",
      "Epoch 4/50\n",
      "\n",
      "Epoch 00004: saving model to ./cp_4_.ckpt\n",
      "938/938 - 355s - loss: 0.3596 - auc: 0.9649 - categorical_accuracy: 0.8691 - val_loss: 0.3645 - val_auc: 0.9651 - val_categorical_accuracy: 0.8698\n",
      "Epoch 5/50\n",
      "\n",
      "Epoch 00005: saving model to ./cp_5_.ckpt\n",
      "938/938 - 354s - loss: 0.3354 - auc: 0.9695 - categorical_accuracy: 0.8801 - val_loss: 0.3361 - val_auc: 0.9699 - val_categorical_accuracy: 0.8692\n",
      "Epoch 6/50\n",
      "\n",
      "Epoch 00006: saving model to ./cp_6_.ckpt\n",
      "938/938 - 354s - loss: 0.3129 - auc: 0.9731 - categorical_accuracy: 0.8889 - val_loss: 0.2970 - val_auc: 0.9764 - val_categorical_accuracy: 0.8925\n",
      "Epoch 7/50\n",
      "\n",
      "Epoch 00007: saving model to ./cp_7_.ckpt\n",
      "938/938 - 352s - loss: 0.2900 - auc: 0.9767 - categorical_accuracy: 0.8985 - val_loss: 0.2982 - val_auc: 0.9766 - val_categorical_accuracy: 0.8947\n",
      "Epoch 8/50\n",
      "\n",
      "Epoch 00008: saving model to ./cp_8_.ckpt\n",
      "938/938 - 352s - loss: 0.2513 - auc: 0.9821 - categorical_accuracy: 0.9126 - val_loss: 0.2466 - val_auc: 0.9830 - val_categorical_accuracy: 0.9106\n",
      "Epoch 9/50\n",
      "\n",
      "Epoch 00009: saving model to ./cp_9_.ckpt\n",
      "938/938 - 354s - loss: 0.2215 - auc: 0.9859 - categorical_accuracy: 0.9236 - val_loss: 0.2244 - val_auc: 0.9851 - val_categorical_accuracy: 0.9248\n",
      "Epoch 10/50\n",
      "\n",
      "Epoch 00010: saving model to ./cp_10_.ckpt\n",
      "938/938 - 356s - loss: 0.1861 - auc: 0.9896 - categorical_accuracy: 0.9354 - val_loss: 0.1929 - val_auc: 0.9895 - val_categorical_accuracy: 0.9302\n",
      "Epoch 11/50\n",
      "\n",
      "Epoch 00011: saving model to ./cp_11_.ckpt\n",
      "938/938 - 357s - loss: 0.1586 - auc: 0.9923 - categorical_accuracy: 0.9457 - val_loss: 0.1614 - val_auc: 0.9923 - val_categorical_accuracy: 0.9464\n",
      "Epoch 12/50\n",
      "\n",
      "Epoch 00012: saving model to ./cp_12_.ckpt\n",
      "938/938 - 356s - loss: 0.1359 - auc: 0.9941 - categorical_accuracy: 0.9544 - val_loss: 0.1410 - val_auc: 0.9937 - val_categorical_accuracy: 0.9542\n",
      "Epoch 13/50\n",
      "\n",
      "Epoch 00013: saving model to ./cp_13_.ckpt\n",
      "938/938 - 356s - loss: 0.1255 - auc: 0.9949 - categorical_accuracy: 0.9578 - val_loss: 0.1450 - val_auc: 0.9937 - val_categorical_accuracy: 0.9513\n",
      "Epoch 14/50\n",
      "\n",
      "Epoch 00014: saving model to ./cp_14_.ckpt\n",
      "938/938 - 355s - loss: 0.1301 - auc: 0.9946 - categorical_accuracy: 0.9552 - val_loss: 0.1495 - val_auc: 0.9932 - val_categorical_accuracy: 0.9480\n",
      "Epoch 15/50\n",
      "\n",
      "Epoch 00015: saving model to ./cp_15_.ckpt\n",
      "938/938 - 355s - loss: 0.1393 - auc: 0.9939 - categorical_accuracy: 0.9536 - val_loss: 0.1521 - val_auc: 0.9932 - val_categorical_accuracy: 0.9472\n",
      "Epoch 16/50\n",
      "\n",
      "Epoch 00016: saving model to ./cp_16_.ckpt\n",
      "938/938 - 356s - loss: 0.1491 - auc: 0.9931 - categorical_accuracy: 0.9495 - val_loss: 0.1769 - val_auc: 0.9910 - val_categorical_accuracy: 0.9359\n",
      "Epoch 17/50\n",
      "938/938 - 354s - loss: 0.1591 - auc: 0.9921 - categorical_accuracy: 0.9470 - val_loss: 0.1808 - val_auc: 0.9900 - val_categorical_accuracy: 0.9409\n",
      "Epoch 18/50\n",
      "\n",
      "Epoch 00018: saving model to ./cp_18_.ckpt\n",
      "938/938 - 358s - loss: 0.1705 - auc: 0.9910 - categorical_accuracy: 0.9418 - val_loss: 0.1801 - val_auc: 0.9904 - val_categorical_accuracy: 0.9342\n",
      "Epoch 19/50\n",
      "\n",
      "Epoch 00019: saving model to ./cp_19_.ckpt\n",
      "938/938 - 353s - loss: 0.1673 - auc: 0.9914 - categorical_accuracy: 0.9432 - val_loss: 0.2357 - val_auc: 0.9847 - val_categorical_accuracy: 0.9141\n",
      "Epoch 20/50\n",
      "\n",
      "Epoch 00020: saving model to ./cp_20_.ckpt\n",
      "938/938 - 353s - loss: 0.1514 - auc: 0.9930 - categorical_accuracy: 0.9479 - val_loss: 0.1580 - val_auc: 0.9921 - val_categorical_accuracy: 0.9461\n",
      "Epoch 21/50\n",
      "\n",
      "Epoch 00021: saving model to ./cp_21_.ckpt\n",
      "938/938 - 356s - loss: 0.1376 - auc: 0.9941 - categorical_accuracy: 0.9537 - val_loss: 0.1561 - val_auc: 0.9922 - val_categorical_accuracy: 0.9475\n",
      "Epoch 22/50\n",
      "\n",
      "Epoch 00022: saving model to ./cp_22_.ckpt\n",
      "938/938 - 356s - loss: 0.1232 - auc: 0.9951 - categorical_accuracy: 0.9581 - val_loss: 0.1331 - val_auc: 0.9943 - val_categorical_accuracy: 0.9547\n",
      "Epoch 23/50\n",
      "\n",
      "Epoch 00023: saving model to ./cp_23_.ckpt\n",
      "938/938 - 354s - loss: 0.1093 - auc: 0.9961 - categorical_accuracy: 0.9624 - val_loss: 0.1325 - val_auc: 0.9942 - val_categorical_accuracy: 0.9536\n",
      "Epoch 24/50\n",
      "\n",
      "Epoch 00024: saving model to ./cp_24_.ckpt\n",
      "938/938 - 354s - loss: 0.0970 - auc: 0.9968 - categorical_accuracy: 0.9667 - val_loss: 0.1235 - val_auc: 0.9952 - val_categorical_accuracy: 0.9570\n",
      "Epoch 25/50\n",
      "\n",
      "Epoch 00025: saving model to ./cp_25_.ckpt\n",
      "938/938 - 355s - loss: 0.0929 - auc: 0.9969 - categorical_accuracy: 0.9689 - val_loss: 0.1285 - val_auc: 0.9946 - val_categorical_accuracy: 0.9563\n",
      "Epoch 26/50\n",
      "\n",
      "Epoch 00026: saving model to ./cp_26_.ckpt\n",
      "938/938 - 355s - loss: 0.0945 - auc: 0.9970 - categorical_accuracy: 0.9678 - val_loss: 0.1265 - val_auc: 0.9950 - val_categorical_accuracy: 0.9559\n",
      "Epoch 27/50\n",
      "\n",
      "Epoch 00027: saving model to ./cp_27_.ckpt\n",
      "938/938 - 354s - loss: 0.0993 - auc: 0.9965 - categorical_accuracy: 0.9664 - val_loss: 0.1231 - val_auc: 0.9953 - val_categorical_accuracy: 0.9567\n",
      "Epoch 28/50\n",
      "\n",
      "Epoch 00028: saving model to ./cp_28_.ckpt\n",
      "938/938 - 353s - loss: 0.1044 - auc: 0.9963 - categorical_accuracy: 0.9655 - val_loss: 0.1338 - val_auc: 0.9938 - val_categorical_accuracy: 0.9544\n",
      "Epoch 29/50\n",
      "\n",
      "Epoch 00029: saving model to ./cp_29_.ckpt\n",
      "938/938 - 356s - loss: 0.1050 - auc: 0.9963 - categorical_accuracy: 0.9644 - val_loss: 0.1503 - val_auc: 0.9928 - val_categorical_accuracy: 0.9491\n",
      "Epoch 30/50\n",
      "\n",
      "Epoch 00030: saving model to ./cp_30_.ckpt\n",
      "938/938 - 354s - loss: 0.1131 - auc: 0.9958 - categorical_accuracy: 0.9613 - val_loss: 0.1442 - val_auc: 0.9934 - val_categorical_accuracy: 0.9523\n",
      "Epoch 31/50\n",
      "\n",
      "Epoch 00031: saving model to ./cp_31_.ckpt\n",
      "938/938 - 356s - loss: 0.1114 - auc: 0.9959 - categorical_accuracy: 0.9624 - val_loss: 0.1228 - val_auc: 0.9949 - val_categorical_accuracy: 0.9566\n",
      "Epoch 32/50\n",
      "\n",
      "Epoch 00032: saving model to ./cp_32_.ckpt\n",
      "938/938 - 355s - loss: 0.1052 - auc: 0.9962 - categorical_accuracy: 0.9645 - val_loss: 0.1326 - val_auc: 0.9944 - val_categorical_accuracy: 0.9538\n",
      "Epoch 33/50\n",
      "938/938 - 354s - loss: 0.0959 - auc: 0.9968 - categorical_accuracy: 0.9682 - val_loss: 0.1231 - val_auc: 0.9953 - val_categorical_accuracy: 0.9575\n",
      "Epoch 34/50\n",
      "\n",
      "Epoch 00034: saving model to ./cp_34_.ckpt\n",
      "938/938 - 355s - loss: 0.0883 - auc: 0.9971 - categorical_accuracy: 0.9704 - val_loss: 0.1304 - val_auc: 0.9944 - val_categorical_accuracy: 0.9531\n",
      "Epoch 35/50\n",
      "\n",
      "Epoch 00035: saving model to ./cp_35_.ckpt\n",
      "938/938 - 355s - loss: 0.0809 - auc: 0.9977 - categorical_accuracy: 0.9732 - val_loss: 0.1150 - val_auc: 0.9954 - val_categorical_accuracy: 0.9603\n",
      "Epoch 36/50\n",
      "\n",
      "Epoch 00036: saving model to ./cp_36_.ckpt\n",
      "938/938 - 353s - loss: 0.0764 - auc: 0.9978 - categorical_accuracy: 0.9745 - val_loss: 0.1107 - val_auc: 0.9956 - val_categorical_accuracy: 0.9627\n",
      "Epoch 37/50\n",
      "\n",
      "Epoch 00037: saving model to ./cp_37_.ckpt\n",
      "938/938 - 353s - loss: 0.0733 - auc: 0.9980 - categorical_accuracy: 0.9742 - val_loss: 0.1097 - val_auc: 0.9959 - val_categorical_accuracy: 0.9642\n",
      "Epoch 38/50\n",
      "\n",
      "Epoch 00038: saving model to ./cp_38_.ckpt\n",
      "938/938 - 358s - loss: 0.0759 - auc: 0.9978 - categorical_accuracy: 0.9746 - val_loss: 0.1065 - val_auc: 0.9961 - val_categorical_accuracy: 0.9645\n",
      "Epoch 39/50\n",
      "\n",
      "Epoch 00039: saving model to ./cp_39_.ckpt\n",
      "938/938 - 357s - loss: 0.0773 - auc: 0.9977 - categorical_accuracy: 0.9750 - val_loss: 0.1124 - val_auc: 0.9950 - val_categorical_accuracy: 0.9652\n",
      "Epoch 40/50\n",
      "\n",
      "Epoch 00040: saving model to ./cp_40_.ckpt\n",
      "938/938 - 356s - loss: 0.0762 - auc: 0.9979 - categorical_accuracy: 0.9740 - val_loss: 0.1126 - val_auc: 0.9954 - val_categorical_accuracy: 0.9630\n",
      "Epoch 41/50\n",
      "\n",
      "Epoch 00041: saving model to ./cp_41_.ckpt\n",
      "938/938 - 354s - loss: 0.0784 - auc: 0.9976 - categorical_accuracy: 0.9742 - val_loss: 0.1186 - val_auc: 0.9950 - val_categorical_accuracy: 0.9611\n",
      "Epoch 42/50\n",
      "\n",
      "Epoch 00042: saving model to ./cp_42_.ckpt\n",
      "938/938 - 357s - loss: 0.0784 - auc: 0.9976 - categorical_accuracy: 0.9743 - val_loss: 0.1160 - val_auc: 0.9950 - val_categorical_accuracy: 0.9614\n",
      "Epoch 43/50\n",
      "\n",
      "Epoch 00043: saving model to ./cp_43_.ckpt\n",
      "938/938 - 355s - loss: 0.0829 - auc: 0.9974 - categorical_accuracy: 0.9721 - val_loss: 0.1265 - val_auc: 0.9946 - val_categorical_accuracy: 0.9588\n",
      "Epoch 44/50\n",
      "\n",
      "Epoch 00044: saving model to ./cp_44_.ckpt\n",
      "938/938 - 354s - loss: 0.0771 - auc: 0.9978 - categorical_accuracy: 0.9739 - val_loss: 0.1350 - val_auc: 0.9936 - val_categorical_accuracy: 0.9548\n",
      "Epoch 45/50\n",
      "\n",
      "Epoch 00045: saving model to ./cp_45_.ckpt\n",
      "938/938 - 352s - loss: 0.0746 - auc: 0.9977 - categorical_accuracy: 0.9758 - val_loss: 0.1160 - val_auc: 0.9951 - val_categorical_accuracy: 0.9634\n",
      "Epoch 46/50\n",
      "\n",
      "Epoch 00046: saving model to ./cp_46_.ckpt\n",
      "938/938 - 356s - loss: 0.0706 - auc: 0.9982 - categorical_accuracy: 0.9760 - val_loss: 0.1055 - val_auc: 0.9959 - val_categorical_accuracy: 0.9661\n",
      "Epoch 47/50\n",
      "\n",
      "Epoch 00047: saving model to ./cp_47_.ckpt\n",
      "938/938 - 355s - loss: 0.0657 - auc: 0.9984 - categorical_accuracy: 0.9775 - val_loss: 0.1127 - val_auc: 0.9952 - val_categorical_accuracy: 0.9630\n",
      "Epoch 48/50\n",
      "\n",
      "Epoch 00048: saving model to ./cp_48_.ckpt\n",
      "938/938 - 355s - loss: 0.0639 - auc: 0.9982 - categorical_accuracy: 0.9789 - val_loss: 0.1088 - val_auc: 0.9955 - val_categorical_accuracy: 0.9647\n",
      "Epoch 49/50\n",
      "938/938 - 355s - loss: 0.0614 - auc: 0.9986 - categorical_accuracy: 0.9793 - val_loss: 0.1075 - val_auc: 0.9955 - val_categorical_accuracy: 0.9664\n",
      "Epoch 50/50\n",
      "\n",
      "Epoch 00050: saving model to ./cp_50_.ckpt\n",
      "938/938 - 355s - loss: 0.0602 - auc: 0.9985 - categorical_accuracy: 0.9802 - val_loss: 0.1134 - val_auc: 0.9950 - val_categorical_accuracy: 0.9642\n"
     ]
    }
   ],
   "source": [
    "history =model.fit(\n",
    "        train_generator,\n",
    "        steps_per_epoch = 938,\n",
    "        validation_steps = 200,\n",
    "        epochs = 50,\n",
    "        verbose = 2,\n",
    "        validation_data=validation_generator,\n",
    "        callbacks = [checkpoint]\n",
    "    \n",
    ")"
   ]
  },
  {
   "cell_type": "code",
   "execution_count": 12,
   "id": "750842b1",
   "metadata": {
    "execution": {
     "iopub.execute_input": "2022-04-10T17:18:42.708957Z",
     "iopub.status.busy": "2022-04-10T17:18:42.708381Z",
     "iopub.status.idle": "2022-04-10T17:18:42.719235Z",
     "shell.execute_reply": "2022-04-10T17:18:42.719614Z",
     "shell.execute_reply.started": "2022-04-03T15:14:27.640329Z"
    },
    "papermill": {
     "duration": 0.087689,
     "end_time": "2022-04-10T17:18:42.719741",
     "exception": false,
     "start_time": "2022-04-10T17:18:42.632052",
     "status": "completed"
    },
    "tags": []
   },
   "outputs": [],
   "source": [
    "\n",
    "pd.DataFrame.from_dict(history.history).to_csv('history.csv',index=False)"
   ]
  },
  {
   "cell_type": "code",
   "execution_count": 9,
   "id": "49c7e3d8",
   "metadata": {},
   "outputs": [
    {
     "data": {
      "text/plain": [
       "<tensorflow.python.training.tracking.util.CheckpointLoadStatus at 0x21b06ca64f0>"
      ]
     },
     "execution_count": 9,
     "metadata": {},
     "output_type": "execute_result"
    }
   ],
   "source": [
    "model.load_weights(\"cp_38_.ckpt\")"
   ]
  },
  {
   "cell_type": "code",
   "execution_count": 11,
   "id": "9f982f2e",
   "metadata": {},
   "outputs": [
    {
     "name": "stdout",
     "output_type": "stream",
     "text": [
      "235/235 [==============================] - 52s 184ms/step - loss: 0.1162 - auc: 0.9954 - categorical_accuracy: 0.9597\n"
     ]
    },
    {
     "data": {
      "text/plain": [
       "[0.11619173735380173, 0.9954259395599365, 0.9597333073616028]"
      ]
     },
     "execution_count": 11,
     "metadata": {},
     "output_type": "execute_result"
    }
   ],
   "source": [
    "model.evaluate(validation_generator)"
   ]
  },
  {
   "cell_type": "code",
   "execution_count": 12,
   "id": "e7f35c1a",
   "metadata": {},
   "outputs": [],
   "source": [
    "df = pd.read_csv(\"history.csv\")"
   ]
  },
  {
   "cell_type": "code",
   "execution_count": 13,
   "id": "c27f193b",
   "metadata": {},
   "outputs": [
    {
     "data": {
      "text/plain": [
       "[<matplotlib.lines.Line2D at 0x21bf4d519a0>]"
      ]
     },
     "execution_count": 13,
     "metadata": {},
     "output_type": "execute_result"
    },
    {
     "data": {
      "image/png": "[encoded data removed]",
      "text/plain": [
       "<Figure size 432x288 with 1 Axes>"
      ]
     },
     "metadata": {
      "needs_background": "light"
     },
     "output_type": "display_data"
    }
   ],
   "source": [
    "plt.plot(np.array(range(0,100)), np.array(df[\"val_auc\"]) )\n",
    "#Validation_auc"
   ]
  },
  {
   "cell_type": "code",
   "execution_count": 14,
   "id": "6f1c8608",
   "metadata": {},
   "outputs": [
    {
     "data": {
      "text/plain": [
       "[<matplotlib.lines.Line2D at 0x21bf4de8f70>]"
      ]
     },
     "execution_count": 14,
     "metadata": {},
     "output_type": "execute_result"
    },
    {
     "data": {
      "image/png": "[encoded data removed]",
      "text/plain": [
       "<Figure size 432x288 with 1 Axes>"
      ]
     },
     "metadata": {
      "needs_background": "light"
     },
     "output_type": "display_data"
    }
   ],
   "source": [
    "plt.plot(np.array(range(0,100)), np.array(df[\"val_loss\"]) )\n",
    "#validation Loss"
   ]
  },
  {
   "cell_type": "code",
   "execution_count": 15,
   "id": "a694658c",
   "metadata": {},
   "outputs": [
    {
     "data": {
      "image/png": "[encoded data removed]",
      "text/plain": [
       "<Figure size 432x288 with 1 Axes>"
      ]
     },
     "metadata": {
      "needs_background": "light"
     },
     "output_type": "display_data"
    }
   ],
   "source": [
    "step = np.arange(0, 100 * 938)\n",
    "lr = cyclical_learning_rate(step)\n",
    "plt.plot(step, lr)\n",
    "plt.xlabel(\"Steps\")\n",
    "plt.ylabel(\"Learning Rate\")\n",
    "plt.show()\n",
    "#Learning Rate"
   ]
  },
  {
   "cell_type": "code",
   "execution_count": 17,
   "id": "16ade98e",
   "metadata": {},
   "outputs": [
    {
     "name": "stdout",
     "output_type": "stream",
     "text": [
      "INFO:tensorflow:Assets written to: Common\\assets\n"
     ]
    },
    {
     "name": "stderr",
     "output_type": "stream",
     "text": [
      "C:\\Users\\cdipt\\AppData\\Roaming\\Python\\Python38\\site-packages\\keras\\engine\\functional.py:1410: CustomMaskWarning: Custom mask layers require a config and must override get_config. When loading, the custom mask layer must be passed to the custom_objects argument.\n",
      "  layer_config = serialize_layer_fn(layer)\n",
      "C:\\Users\\cdipt\\AppData\\Roaming\\Python\\Python38\\site-packages\\keras\\saving\\saved_model\\layer_serialization.py:112: CustomMaskWarning: Custom mask layers require a config and must override get_config. When loading, the custom mask layer must be passed to the custom_objects argument.\n",
      "  return generic_utils.serialize_keras_object(obj)\n"
     ]
    }
   ],
   "source": [
    "model.save(\"Common\" , save_format=\"hd5\")"
   ]
  }
 ],
 "metadata": {
  "kernelspec": {
   "display_name": "Python 3",
   "language": "python",
   "name": "python3"
  },
  "language_info": {
   "codemirror_mode": {
    "name": "ipython",
    "version": 3
   },
   "file_extension": ".py",
   "mimetype": "text/x-python",
   "name": "python",
   "nbconvert_exporter": "python",
   "pygments_lexer": "ipython3",
   "version": "3.8.8"
  },
  "papermill": {
   "default_parameters": {},
   "duration": 18413.292711,
   "end_time": "2022-04-10T17:18:46.029456",
   "environment_variables": {},
   "exception": null,
   "input_path": "__notebook__.ipynb",
   "output_path": "__notebook__.ipynb",
   "parameters": {},
   "start_time": "2022-04-10T12:11:52.736745",
   "version": "2.3.3"
  }
 },
 "nbformat": 4,
 "nbformat_minor": 5
}
