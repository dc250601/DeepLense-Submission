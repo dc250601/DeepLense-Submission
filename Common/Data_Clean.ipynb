{
 "cells": [
  {
   "cell_type": "code",
   "execution_count": 1,
   "id": "1a806c57",
   "metadata": {},
   "outputs": [],
   "source": [
    "import numpy as np\n",
    "import matplotlib.pyplot as plt\n",
    "import os\n",
    "from PIL import Image as im\n",
    "import pandas as pd"
   ]
  },
  {
   "cell_type": "code",
   "execution_count": 2,
   "id": "78f969a8",
   "metadata": {},
   "outputs": [],
   "source": [
    "sample = np.load(\"./train/no/1.npy\")\n",
    "sample = sample*255\n",
    "sample = sample.astype(np.uint8)\n",
    "sample = np.reshape(sample , (150,150))\n",
    "lmmi=im.fromarray(sample)"
   ]
  },
  {
   "cell_type": "code",
   "execution_count": 3,
   "id": "8b37d4df",
   "metadata": {},
   "outputs": [],
   "source": [
    "def extractor(path):\n",
    "    npath = \"./Data\"\n",
    "    os.makedirs(npath+path)\n",
    "    lt = os.listdir(str(\".\"+path))\n",
    "    for i in lt:\n",
    "        tpath = os.path.join(\".\"+path,str(i))\n",
    "        sample = np.load(os.path.join(\".\"+path,str(i)))\n",
    "        sample = sample*255\n",
    "        sample = sample.astype(np.uint8)\n",
    "        sample = np.reshape(sample , (150,150))\n",
    "        lmmi=im.fromarray(sample)\n",
    "        lmmi.save(os.path.join(npath+path,(str(i)+\".jpg\")))\n"
   ]
  },
  {
   "cell_type": "code",
   "execution_count": 4,
   "id": "404fe12e",
   "metadata": {},
   "outputs": [],
   "source": [
    "extractor(\"/train/no\")\n",
    "extractor(\"/train/vort\")\n",
    "extractor(\"/train/sphere\")\n",
    "extractor(\"/val/no\")\n",
    "extractor(\"/val/vort\")\n",
    "extractor(\"/val/sphere\")"
   ]
  }
 ],
 "metadata": {
  "kernelspec": {
   "display_name": "Python 3",
   "language": "python",
   "name": "python3"
  },
  "language_info": {
   "codemirror_mode": {
    "name": "ipython",
    "version": 3
   },
   "file_extension": ".py",
   "mimetype": "text/x-python",
   "name": "python",
   "nbconvert_exporter": "python",
   "pygments_lexer": "ipython3",
   "version": "3.8.8"
  }
 },
 "nbformat": 4,
 "nbformat_minor": 5
}
