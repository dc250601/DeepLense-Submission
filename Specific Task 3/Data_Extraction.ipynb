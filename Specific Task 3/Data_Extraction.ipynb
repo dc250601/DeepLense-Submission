{
 "cells": [
  {
   "cell_type": "code",
   "execution_count": 3,
   "id": "343cd0b0",
   "metadata": {},
   "outputs": [],
   "source": [
    "import numpy as np\n",
    "import matplotlib.pyplot as plt\n",
    "import os \n",
    "from PIL import Image as im\n",
    "import pandas as pd"
   ]
  },
  {
   "cell_type": "code",
   "execution_count": 4,
   "id": "6de52053",
   "metadata": {},
   "outputs": [],
   "source": [
    "len = os.listdir(\"./lens_data/\")\n",
    "base = \"./lens_data/\""
   ]
  },
  {
   "cell_type": "code",
   "execution_count": 7,
   "id": "9c4d15d7",
   "metadata": {},
   "outputs": [],
   "source": [
    "m = 1000\n",
    "tot = np.zeros((20000,22501))\n",
    "for i in range(20000):\n",
    "    data = np.load(os.path.join(base,str(len[i])),allow_pickle=True)\n",
    "    array = data[0]\n",
    "    val = data[1]\n",
    "    array = np.reshape(array, (150,150,))\n",
    "    array = (array - np.min(array))/(np.max(array-np.min(array)))\n",
    "    array = array*255\n",
    "    array = array.astype(np.uint8)\n",
    "    array = np.reshape(array, (150*150))\n",
    "    tot[i,:22500] = array\n",
    "    tot[i,22500] = val"
   ]
  },
  {
   "cell_type": "code",
   "execution_count": 8,
   "id": "c7ca0725",
   "metadata": {},
   "outputs": [],
   "source": [
    "np.save(\"data.npy\",tot)"
   ]
  }
 ],
 "metadata": {
  "kernelspec": {
   "display_name": "Python 3",
   "language": "python",
   "name": "python3"
  },
  "language_info": {
   "codemirror_mode": {
    "name": "ipython",
    "version": 3
   },
   "file_extension": ".py",
   "mimetype": "text/x-python",
   "name": "python",
   "nbconvert_exporter": "python",
   "pygments_lexer": "ipython3",
   "version": "3.8.8"
  }
 },
 "nbformat": 4,
 "nbformat_minor": 5
}
